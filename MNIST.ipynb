{
  "nbformat": 4,
  "nbformat_minor": 0,
  "metadata": {
    "kernelspec": {
      "display_name": "Python 3",
      "language": "python",
      "name": "python3"
    },
    "language_info": {
      "codemirror_mode": {
        "name": "ipython",
        "version": 3
      },
      "file_extension": ".py",
      "mimetype": "text/x-python",
      "name": "python",
      "nbconvert_exporter": "python",
      "pygments_lexer": "ipython3",
      "version": "3.7.6"
    },
    "colab": {
      "name": "MNIST.ipynb",
      "provenance": []
    }
  },
  "cells": [
    {
      "cell_type": "code",
      "metadata": {
        "id": "aLnUREaVo5PM"
      },
      "source": [
        "import sys\n",
        "path = ['', 'C:\\\\Program Files\\\\Python37\\\\Lib\\\\idlelib', 'C:\\\\Program Files\\\\Python37\\\\python37.zip', 'C:\\\\Program Files\\\\Python37\\\\DLLs', 'C:\\\\Program Files\\\\Python37\\\\lib', 'C:\\\\Program Files\\\\Python37', 'C:\\\\Users\\\\anujk\\\\AppData\\\\Roaming\\\\Python\\\\Python37\\\\site-packages', 'C:\\\\Program Files\\\\Python37\\\\lib\\\\site-packages', 'C:\\\\Program Files\\\\Python37\\\\lib\\\\site-packages\\\\win32', 'C:\\\\Program Files\\\\Python37\\\\lib\\\\site-packages\\\\win32\\\\lib', 'C:\\\\Program Files\\\\Python37\\\\lib\\\\site-packages\\\\Pythonwin', 'C:\\\\Program Files\\\\Python37\\\\lib\\\\site-packages\\\\IPython\\\\extensions', '..']\n",
        "for i in path: \n",
        "    sys.path.append(i)"
      ],
      "execution_count": null,
      "outputs": []
    },
    {
      "cell_type": "code",
      "metadata": {
        "id": "saqyljXmo5PS"
      },
      "source": [
        "import tensorflow as tf\n",
        "from tensorflow import keras\n",
        "\n",
        "import numpy as np\n",
        "import matplotlib.pyplot as plt\n",
        "from tensorflow.keras.datasets import imdb\n",
        "fashion_mnist = keras.datasets.fashion_mnist\n",
        "\n",
        "(train_images, train_labels), (test_images, test_labels) = fashion_mnist.load_data()"
      ],
      "execution_count": null,
      "outputs": []
    },
    {
      "cell_type": "code",
      "metadata": {
        "id": "YPEYmj0io5PW",
        "outputId": "e17653cb-18c3-4b64-837c-350ec2d006b1"
      },
      "source": [
        "train_images.shape"
      ],
      "execution_count": null,
      "outputs": [
        {
          "output_type": "execute_result",
          "data": {
            "text/plain": [
              "(60000, 28, 28)"
            ]
          },
          "metadata": {
            "tags": []
          },
          "execution_count": 5
        }
      ]
    },
    {
      "cell_type": "code",
      "metadata": {
        "id": "3wxkEKX0o5Pc",
        "outputId": "978a361f-a5d4-4949-8d9c-996df55f93e1"
      },
      "source": [
        "train_labels.shape"
      ],
      "execution_count": null,
      "outputs": [
        {
          "output_type": "execute_result",
          "data": {
            "text/plain": [
              "(60000,)"
            ]
          },
          "metadata": {
            "tags": []
          },
          "execution_count": 2
        }
      ]
    },
    {
      "cell_type": "code",
      "metadata": {
        "id": "LN1LeyXyo5Pg",
        "outputId": "7c06ff93-e744-42f1-a462-10e9d3690d28"
      },
      "source": [
        "train_images[0][27]"
      ],
      "execution_count": null,
      "outputs": [
        {
          "output_type": "execute_result",
          "data": {
            "text/plain": [
              "array([0, 0, 0, 0, 0, 0, 0, 0, 0, 0, 0, 0, 0, 0, 0, 0, 0, 0, 0, 0, 0, 0,\n",
              "       0, 0, 0, 0, 0, 0], dtype=uint8)"
            ]
          },
          "metadata": {
            "tags": []
          },
          "execution_count": 13
        }
      ]
    },
    {
      "cell_type": "code",
      "metadata": {
        "id": "5xUwLJtMo5Pk"
      },
      "source": [
        "class_names = ['T-shirt/top', 'Trouser', 'Pullover', 'Dress', 'Coat',\n",
        "               'Sandal', 'Shirt', 'Sneaker', 'Bag', 'Ankle boot']"
      ],
      "execution_count": null,
      "outputs": []
    },
    {
      "cell_type": "code",
      "metadata": {
        "id": "RSEzlToeo5Po",
        "outputId": "1e2d4211-95bd-4af9-a439-d21329f4484c"
      },
      "source": [
        "plt.figure()\n",
        "plt.imshow(train_images[0])\n",
        "plt.colorbar()\n",
        "plt.grid(False)\n",
        "plt.show()"
      ],
      "execution_count": null,
      "outputs": [
        {
          "output_type": "display_data",
          "data": {
            "image/png": "[encoded data removed]",
            "text/plain": [
              "<Figure size 432x288 with 2 Axes>"
            ]
          },
          "metadata": {
            "tags": [],
            "needs_background": "light"
          }
        }
      ]
    },
    {
      "cell_type": "code",
      "metadata": {
        "id": "j0FkRy1bo5Ps"
      },
      "source": [
        "train_images = train_images / 255.0\n",
        "\n",
        "test_images = test_images / 255.0"
      ],
      "execution_count": null,
      "outputs": []
    },
    {
      "cell_type": "code",
      "metadata": {
        "id": "CwRoVrKmo5Pw"
      },
      "source": [
        "model = keras.Sequential([\n",
        "    keras.layers.Flatten(input_shape=(28, 28)),\n",
        "    keras.layers.Dense(128, activation='relu'),\n",
        "    keras.layers.Dense(10)\n",
        "])"
      ],
      "execution_count": null,
      "outputs": []
    },
    {
      "cell_type": "code",
      "metadata": {
        "id": "Jsdr-aAJo5P0"
      },
      "source": [
        "model.compile(optimizer='adam',\n",
        "              loss=tf.keras.losses.SparseCategoricalCrossentropy(from_logits=True),\n",
        "              metrics=['accuracy'])"
      ],
      "execution_count": null,
      "outputs": []
    },
    {
      "cell_type": "code",
      "metadata": {
        "id": "UCF_VqTvo5P3",
        "outputId": "b203cd1d-5ba2-40e3-eef5-390127fee0d1"
      },
      "source": [
        "train_labels"
      ],
      "execution_count": null,
      "outputs": [
        {
          "output_type": "execute_result",
          "data": {
            "text/plain": [
              "array([9, 0, 0, ..., 3, 0, 5], dtype=uint8)"
            ]
          },
          "metadata": {
            "tags": []
          },
          "execution_count": 107
        }
      ]
    },
    {
      "cell_type": "code",
      "metadata": {
        "id": "1Wx9zBg-o5P7",
        "outputId": "3e488a5c-f5c4-4a6b-e859-e15a20b11835"
      },
      "source": [
        "model.fit(train_images, train_labels, epochs=10)"
      ],
      "execution_count": null,
      "outputs": [
        {
          "output_type": "stream",
          "text": [
            "Train on 60000 samples\n",
            "Epoch 1/10\n",
            "60000/60000 [==============================] - 11s 187us/sample - loss: 0.4962 - accuracy: 0.8256\n",
            "Epoch 2/10\n",
            "60000/60000 [==============================] - 8s 128us/sample - loss: 0.3716 - accuracy: 0.8652\n",
            "Epoch 3/10\n",
            "60000/60000 [==============================] - 9s 145us/sample - loss: 0.3338 - accuracy: 0.8782\n",
            "Epoch 4/10\n",
            "60000/60000 [==============================] - 8s 133us/sample - loss: 0.3115 - accuracy: 0.8848\n",
            "Epoch 5/10\n",
            "60000/60000 [==============================] - 8s 130us/sample - loss: 0.2913 - accuracy: 0.8928\n",
            "Epoch 6/10\n",
            "60000/60000 [==============================] - 8s 135us/sample - loss: 0.2778 - accuracy: 0.8969\n",
            "Epoch 7/10\n",
            "60000/60000 [==============================] - 7s 120us/sample - loss: 0.2665 - accuracy: 0.9008\n",
            "Epoch 8/10\n",
            "60000/60000 [==============================] - 8s 126us/sample - loss: 0.2557 - accuracy: 0.9052\n",
            "Epoch 9/10\n",
            "60000/60000 [==============================] - 8s 138us/sample - loss: 0.2441 - accuracy: 0.9092\n",
            "Epoch 10/10\n",
            "60000/60000 [==============================] - 8s 129us/sample - loss: 0.2389 - accuracy: 0.9103\n"
          ],
          "name": "stdout"
        },
        {
          "output_type": "execute_result",
          "data": {
            "text/plain": [
              "<tensorflow.python.keras.callbacks.History at 0x23f44aef588>"
            ]
          },
          "metadata": {
            "tags": []
          },
          "execution_count": 6
        }
      ]
    },
    {
      "cell_type": "code",
      "metadata": {
        "id": "qdR8z6qbo5P-",
        "outputId": "ca61e8a0-ffe1-404a-b45c-c2e39faa8a27"
      },
      "source": [
        "test_loss, test_acc = model.evaluate(test_images,  test_labels, verbose=2)\n",
        "\n",
        "print('\\nTest accuracy:', test_acc)"
      ],
      "execution_count": null,
      "outputs": [
        {
          "output_type": "stream",
          "text": [
            "10000/1 - 1s - loss: 0.2333 - accuracy: 0.8766\n",
            "\n",
            "Test accuracy: 0.8766\n"
          ],
          "name": "stdout"
        }
      ]
    },
    {
      "cell_type": "code",
      "metadata": {
        "id": "DYvtTxcto5QC"
      },
      "source": [
        "predictions = model.predict(test_images)"
      ],
      "execution_count": null,
      "outputs": []
    },
    {
      "cell_type": "code",
      "metadata": {
        "id": "isQVKgL1o5QJ"
      },
      "source": [
        "im = plt.imread(r'C:\\Users\\anujk\\Downloads\\shirt.png')"
      ],
      "execution_count": null,
      "outputs": []
    },
    {
      "cell_type": "code",
      "metadata": {
        "id": "F4NwqCL6o5QN",
        "outputId": "966d9cb6-9c0b-4b3f-8d4d-a78e29f74d31"
      },
      "source": [
        "plt.figure()\n",
        "plt.imshow(im)\n",
        "plt.colorbar()\n",
        "plt.grid(False)\n",
        "plt.show()"
      ],
      "execution_count": null,
      "outputs": [
        {
          "output_type": "display_data",
          "data": {
            "image/png": "[encoded data removed]",
            "text/plain": [
              "<Figure size 432x288 with 2 Axes>"
            ]
          },
          "metadata": {
            "tags": [],
            "needs_background": "light"
          }
        }
      ]
    },
    {
      "cell_type": "code",
      "metadata": {
        "id": "zljDxNdwo5QQ"
      },
      "source": [
        "import cv2\n",
        "new = cv2.cvtColor(im, cv2.COLOR_BGR2GRAY)"
      ],
      "execution_count": null,
      "outputs": []
    },
    {
      "cell_type": "code",
      "metadata": {
        "id": "CK7UMQZpo5QU",
        "outputId": "ee15a310-0a32-435f-b20b-a17cdbc92b52"
      },
      "source": [
        "plt.imshow(new)\n",
        "plt.colorbar()"
      ],
      "execution_count": null,
      "outputs": [
        {
          "output_type": "execute_result",
          "data": {
            "text/plain": [
              "<matplotlib.colorbar.Colorbar at 0x23f69053bc8>"
            ]
          },
          "metadata": {
            "tags": []
          },
          "execution_count": 99
        },
        {
          "output_type": "display_data",
          "data": {
            "image/png": "[encoded data removed]",
            "text/plain": [
              "<Figure size 432x288 with 2 Axes>"
            ]
          },
          "metadata": {
            "tags": [],
            "needs_background": "light"
          }
        }
      ]
    },
    {
      "cell_type": "code",
      "metadata": {
        "id": "v8jvYSnOo5Qa"
      },
      "source": [
        "for i in range(28):\n",
        "    for j in range(28):\n",
        "        new[i][j] = 1- new[i][j]"
      ],
      "execution_count": null,
      "outputs": []
    },
    {
      "cell_type": "code",
      "metadata": {
        "id": "sUUQa8KCo5Qd",
        "outputId": "53e8645a-d896-430d-a0f9-7181a64f4e51"
      },
      "source": [
        "plt.imshow(new)\n",
        "plt.colorbar()"
      ],
      "execution_count": null,
      "outputs": [
        {
          "output_type": "execute_result",
          "data": {
            "text/plain": [
              "<matplotlib.colorbar.Colorbar at 0x23f69105e48>"
            ]
          },
          "metadata": {
            "tags": []
          },
          "execution_count": 101
        },
        {
          "output_type": "display_data",
          "data": {
            "image/png": "[encoded data removed]",
            "text/plain": [
              "<Figure size 432x288 with 2 Axes>"
            ]
          },
          "metadata": {
            "tags": [],
            "needs_background": "light"
          }
        }
      ]
    },
    {
      "cell_type": "code",
      "metadata": {
        "id": "T_gU5rLEo5Qg"
      },
      "source": [
        "new = (np.expand_dims(new,0))"
      ],
      "execution_count": null,
      "outputs": []
    },
    {
      "cell_type": "code",
      "metadata": {
        "id": "a6MxoGm5o5Qk",
        "outputId": "70a6e804-a3a5-4761-e0f9-74e48257c11a"
      },
      "source": [
        "class_names[np.argmax(model.predict([new]))]"
      ],
      "execution_count": null,
      "outputs": [
        {
          "output_type": "execute_result",
          "data": {
            "text/plain": [
              "'Coat'"
            ]
          },
          "metadata": {
            "tags": []
          },
          "execution_count": 103
        }
      ]
    },
    {
      "cell_type": "code",
      "metadata": {
        "id": "o5qm9YO4o5Qn"
      },
      "source": [
        "ar = model.predict([new])"
      ],
      "execution_count": null,
      "outputs": []
    },
    {
      "cell_type": "code",
      "metadata": {
        "id": "x2EQ7QNDo5Qq",
        "outputId": "8c8d5e05-352a-4a22-f45e-596eee940ec0"
      },
      "source": [
        "\n",
        "plt.figure(figsize=(6,3))\n",
        "plt.subplot(1,2,1)\n",
        "plt.imshow(new[0], cmap=plt.cm.binary)\n",
        "plt.xlabel(\"{:2.0f}% ({})\".format(100*np.max(ar[0]),class_names[np.argmax(model.predict([new]))]))\n",
        "plt.subplot(1,2,2)\n",
        "plt.xticks(range(10))\n",
        "plt.yticks([])\n",
        "thisplot = plt.bar(range(10),ar[0] , color=\"#777777\")\n",
        "plt.ylim([0, 1])\n",
        "predicted_label = np.argmax(ar[0])\n",
        "plt.show()"
      ],
      "execution_count": null,
      "outputs": [
        {
          "output_type": "display_data",
          "data": {
            "image/png": "[encoded data removed]",
            "text/plain": [
              "<Figure size 432x216 with 2 Axes>"
            ]
          },
          "metadata": {
            "tags": [],
            "needs_background": "light"
          }
        }
      ]
    },
    {
      "cell_type": "code",
      "metadata": {
        "id": "-MwV8jpGo5Qv",
        "outputId": "2197f57c-05fd-43d0-df43-753b69eb2179"
      },
      "source": [
        "ar[0]"
      ],
      "execution_count": null,
      "outputs": [
        {
          "output_type": "execute_result",
          "data": {
            "text/plain": [
              "array([ -4.7635174, -10.673027 ,  -3.8024437,  -5.87213  ,  -8.289651 ,\n",
              "         2.032954 ,  -6.355317 ,  -6.525505 ,  -1.5048354, -14.028353 ],\n",
              "      dtype=float32)"
            ]
          },
          "metadata": {
            "tags": []
          },
          "execution_count": 92
        }
      ]
    },
    {
      "cell_type": "code",
      "metadata": {
        "id": "XFWpwM_-o5Qz",
        "colab": {
          "base_uri": "https://localhost:8080/",
          "height": 163
        },
        "outputId": "b151a1e6-b8a3-4ff5-803b-6de5a8bd799c"
      },
      "source": [
        "class_names"
      ],
      "execution_count": null,
      "outputs": [
        {
          "output_type": "error",
          "ename": "NameError",
          "evalue": "ignored",
          "traceback": [
            "\u001b[0;31m---------------------------------------------------------------------------\u001b[0m",
            "\u001b[0;31mNameError\u001b[0m                                 Traceback (most recent call last)",
            "\u001b[0;32m<ipython-input-1-931ab93f0ede>\u001b[0m in \u001b[0;36m<module>\u001b[0;34m()\u001b[0m\n\u001b[0;32m----> 1\u001b[0;31m \u001b[0mclass_names\u001b[0m\u001b[0;34m\u001b[0m\u001b[0;34m\u001b[0m\u001b[0m\n\u001b[0m",
            "\u001b[0;31mNameError\u001b[0m: name 'class_names' is not defined"
          ]
        }
      ]
    },
    {
      "cell_type": "code",
      "metadata": {
        "id": "jz266RaEo5Q2"
      },
      "source": [
        ""
      ],
      "execution_count": null,
      "outputs": []
    }
  ]
}